{
 "cells": [
  {
   "cell_type": "code",
   "execution_count": 1,
   "id": "67f14255-c156-4d48-8306-5d346f441244",
   "metadata": {},
   "outputs": [],
   "source": [
    "import sys\n",
    "import numpy as np\n",
    "import math\n",
    "sys.path.append(\"../build/python\")  # set to correct path for module\n",
    "import varttpy"
   ]
  },
  {
   "cell_type": "code",
   "execution_count": 2,
   "id": "960f8b91-94bb-4b90-95d2-5773d58e04e1",
   "metadata": {},
   "outputs": [],
   "source": [
    "tmat=np.loadtxt(\"../examples/ex11_irlm/data/t_IRLM_NRG_N16_U-0.5_V0.15_Lambda2.0_ed0.0_Nkept200.dat\")\n",
    "Pmat=np.loadtxt(\"../examples/ex11_irlm/data/P_IRLM_NRG_N16_U-0.5_V0.15_Lambda2.0_ed0.0_Nkept200.dat\")"
   ]
  },
  {
   "cell_type": "code",
   "execution_count": 3,
   "id": "0f21c9a0-7ce1-445b-9e3c-0529966bee35",
   "metadata": {},
   "outputs": [],
   "source": [
    "model=varttpy.IRLM(tmat, Pmat, U=-0.5)\n",
    "sol=varttpy.DMRG0(model.Ham())"
   ]
  },
  {
   "cell_type": "code",
   "execution_count": 4,
   "id": "73bab215-b19b-4e77-bc1c-ddec6da8559b",
   "metadata": {},
   "outputs": [
    {
     "name": "stdout",
     "output_type": "stream",
     "text": [
      "sweep energy Npart\n",
      "1 -1.403685830655507 7.999999989414992\n",
      "2 -1.4036858311897273 7.999999999999811\n",
      "3 -1.403685831189951 7.999999999999803\n",
      "4 -1.403685831189983 7.9999999999998215\n",
      "5 -1.4036858311899965 7.999999999999791\n",
      "6 -1.4036858311900051 7.999999999999795\n",
      "7 -1.4036858311900142 7.999999999999805\n",
      "8 -1.4036858311900264 7.999999999999813\n",
      "9 -1.4036858311900307 7.999999999999813\n",
      "10 -1.403685831190032 7.999999999999809\n"
     ]
    }
   ],
   "source": [
    "sol.bond_dim=64\n",
    "sol.nIter_diag=64\n",
    "Npart=model.NParticle();\n",
    "print(\"sweep energy Npart\")\n",
    "for i in range(10):\n",
    "    sol.iterate()\n",
    "    print(i+1, sol.energy, sol.Expectation(Npart))\n",
    "\n",
    "cc=model.CalculateCiCj(sol.gs)\n",
    "eval=np.sort( np.linalg.eigvals(cc) )"
   ]
  },
  {
   "cell_type": "code",
   "execution_count": 5,
   "id": "300c5cb3-b792-4262-bf11-0ad6cc07001a",
   "metadata": {},
   "outputs": [
    {
     "data": {
      "text/plain": [
       "[<matplotlib.lines.Line2D at 0x7f11f81252b0>]"
      ]
     },
     "execution_count": 5,
     "metadata": {},
     "output_type": "execute_result"
    },
    {
     "data": {
      "image/png": "[encoded data removed]",
      "text/plain": [
       "<Figure size 432x288 with 1 Axes>"
      ]
     },
     "metadata": {
      "needs_background": "light"
     },
     "output_type": "display_data"
    }
   ],
   "source": [
    "import matplotlib.pyplot as plt\n",
    "plt.yscale('log')\n",
    "plt.plot(eval, '-o')"
   ]
  },
  {
   "cell_type": "code",
   "execution_count": null,
   "id": "9494a6b2-49af-46ad-9d3c-92601a5c24cf",
   "metadata": {},
   "outputs": [],
   "source": []
  }
 ],
 "metadata": {
  "kernelspec": {
   "display_name": "Python 3",
   "language": "python",
   "name": "python3"
  },
  "language_info": {
   "codemirror_mode": {
    "name": "ipython",
    "version": 3
   },
   "file_extension": ".py",
   "mimetype": "text/x-python",
   "name": "python",
   "nbconvert_exporter": "python",
   "pygments_lexer": "ipython3",
   "version": "3.8.5"
  }
 },
 "nbformat": 4,
 "nbformat_minor": 5
}
