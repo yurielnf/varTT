{
 "cells": [
  {
   "cell_type": "code",
   "execution_count": 1,
   "id": "67f14255-c156-4d48-8306-5d346f441244",
   "metadata": {},
   "outputs": [],
   "source": [
    "import sys\n",
    "import numpy as np\n",
    "import math\n",
    "sys.path.append(\"../build/python\")  # set to correct path for module\n",
    "import varttpy"
   ]
  },
  {
   "cell_type": "code",
   "execution_count": 2,
   "id": "0fceb001-54e7-4379-a06a-57f6ded04c12",
   "metadata": {},
   "outputs": [
    {
     "name": "stdout",
     "output_type": "stream",
     "text": [
      "H:  [4, 4, 4, 4, 4, 4, 4, 4, 4, 4, 4, 4, 4, 4, 4, 4, 4, 4, 4, 4, 4, 4, 4, 4, 4, 4, 4, 4, 4, 4, 4, 4, 4, 4, 4, 4, 4, 4, 4, 4, 4, 4, 4, 4, 4, 4, 4, 4, 4, 4, 4, 4, 4, 4, 4, 4, 4, 4, 4, 4, 4, 4, 4, 4, 4, 4, 4, 4, 4, 4, 4, 4, 4, 4, 4, 4, 4, 4, 4, 4, 4, 4, 4, 4, 4, 4, 4, 4, 4, 4, 4, 4, 4, 4, 4, 4, 4, 4, 4, 1]\n"
     ]
    }
   ],
   "source": [
    "## IRLM model\n",
    "L=100\n",
    "t=0.5\n",
    "V=0.15\n",
    "U=-0.5\n",
    "\n",
    "## Kinetic energy TB Hamiltonian\n",
    "K=np.zeros((L,L))\n",
    "for i in range(1,L-1):\n",
    "    K[i,i+1]=K[i+1,i]=t\n",
    "\n",
    "K[0,1]=K[1,0]=V\n",
    "\n",
    "## U ni nj\n",
    "Umat=np.zeros((L,L))\n",
    "Umat[0,1]=U\n",
    "K[0,0]=K[1,1]=-U/2\n",
    "\n",
    "## Diagonalize the bath\n",
    "ek,R = np.linalg.eigh(K[2:,2:])\n",
    "iek=np.argsort([abs(x) for x in ek])\n",
    "Rfull=np.identity(L)\n",
    "Rfull[2:,2:]=R[:,iek]\n",
    "Krot = np.transpose(Rfull) @ K @ Rfull\n",
    "\n",
    "Vijkl={}\n",
    "model = varttpy.Fermionic(Krot,Umat,Vijkl)\n",
    "H=model.Ham()\n",
    "print(\"H: \",[M.shape[-1] for M in H.cores])"
   ]
  },
  {
   "cell_type": "code",
   "execution_count": 3,
   "id": "73bab215-b19b-4e77-bc1c-ddec6da8559b",
   "metadata": {},
   "outputs": [
    {
     "name": "stdout",
     "output_type": "stream",
     "text": [
      "sweep energy Npart\n",
      "1 -31.24727648616172 49.95781606059562\n",
      "2 -31.25015212453287 50.000000001704294\n",
      "3 -31.250152196566095 49.99999999998671\n",
      "4 -31.25015221608929 49.99999999997683\n",
      "5 -31.25015221975285 49.99999999997525\n",
      "6 -31.250152220619572 49.99999999998613\n",
      "H^2/E^2-1= 3.192890396519488e-11\n"
     ]
    }
   ],
   "source": [
    "sol=varttpy.DMRG(H)\n",
    "sol.bond_dim=32\n",
    "sol.nIter_diag=32\n",
    "Npart=model.NParticle();\n",
    "print(\"sweep energy Npart\")\n",
    "eners=[]\n",
    "for i in range(6):\n",
    "    sol.iterate()\n",
    "    print(i+1, sol.energy, sol.Expectation(Npart))\n",
    "    eners += [sol.energy]\n",
    "\n",
    "variance_rel=sol.H2(4*sol.bond_dim)/sol.energy**2-1\n",
    "print(\"H^2/E^2-1=\", variance_rel)"
   ]
  },
  {
   "cell_type": "code",
   "execution_count": 4,
   "id": "0d7cafe3-7c02-49d4-a373-7c6e61229edc",
   "metadata": {},
   "outputs": [
    {
     "data": {
      "text/plain": [
       "<matplotlib.legend.Legend at 0x7fa05b7c6940>"
      ]
     },
     "execution_count": 4,
     "metadata": {},
     "output_type": "execute_result"
    },
    {
     "data": {
      "image/png": "[encoded data removed]",
      "text/plain": [
       "<Figure size 432x288 with 1 Axes>"
      ]
     },
     "metadata": {
      "needs_background": "light"
     },
     "output_type": "display_data"
    }
   ],
   "source": [
    "import matplotlib.pyplot as plt\n",
    "plt.yscale('log')\n",
    "eRef=np.min(eners)\n",
    "plt.ylabel(\"|E/Efinal-1|\")\n",
    "plt.plot([abs(x/eRef-1) for x in eners], '-o', label=f'dmrg m={sol.bond_dim}')\n",
    "plt.plot([variance_rel for x in eners], '--', label=\"$\\\\langle H^2 \\\\rangle /E^2-1$\")\n",
    "plt.legend()"
   ]
  },
  {
   "cell_type": "code",
   "execution_count": 12,
   "id": "321b2763-093e-456c-b48e-f23cd5a7dbf4",
   "metadata": {},
   "outputs": [],
   "source": [
    "cc=np.zeros((L,L))\n",
    "for i in range(L):\n",
    "    for j in range(i,L):\n",
    "        cc[j,i]=cc[i,j]=sol.correlation(model.CidCj(i,j),i,j)\n",
    "eval=np.sort( np.linalg.eigvals(cc) )"
   ]
  },
  {
   "cell_type": "code",
   "execution_count": 13,
   "id": "300c5cb3-b792-4262-bf11-0ad6cc07001a",
   "metadata": {},
   "outputs": [
    {
     "name": "stderr",
     "output_type": "stream",
     "text": [
      "/home/yurielnf/anaconda3/lib/python3.8/site-packages/matplotlib/cbook/__init__.py:1298: ComplexWarning: Casting complex values to real discards the imaginary part\n",
      "  return np.asarray(x, float)\n"
     ]
    },
    {
     "data": {
      "text/plain": [
       "<matplotlib.legend.Legend at 0x7fa05b513fa0>"
      ]
     },
     "execution_count": 13,
     "metadata": {},
     "output_type": "execute_result"
    },
    {
     "data": {
      "image/png": "[encoded data removed]",
      "text/plain": [
       "<Figure size 432x288 with 1 Axes>"
      ]
     },
     "metadata": {
      "needs_background": "light"
     },
     "output_type": "display_data"
    }
   ],
   "source": [
    "import matplotlib.pyplot as plt\n",
    "plt.ylabel('eval $ \\\\langle c_i^\\dagger c_j \\\\rangle$')\n",
    "plt.yscale('log')\n",
    "plt.plot([min(x,1-x) for x in eval], '-o')\n",
    "plt.plot([variance_rel for x in eval], '--', label=\"$\\\\langle H^2 \\\\rangle /E^2-1$\")\n",
    "plt.legend()"
   ]
  },
  {
   "cell_type": "code",
   "execution_count": 112,
   "id": "9494a6b2-49af-46ad-9d3c-92601a5c24cf",
   "metadata": {},
   "outputs": [
    {
     "name": "stdout",
     "output_type": "stream",
     "text": [
      "Npart= 50.00000000048562\n",
      "H2-E^2 sigma/E\n",
      "1.0235330843322288e-05 -4.712154324866678e-08\n",
      "4.414829901655537e-08 -3.350831552507013e-07\n",
      "7.425475789801794e-10 -4.644378140984366e-06\n",
      "6.145195463602704e-11 -5.957165745614695e-06\n",
      "3.5922820273981415e-11 -5.993246483449609e-06\n"
     ]
    }
   ],
   "source": [
    "print(\"Npart=\",sol.Expectation(Npart))\n",
    "print(\"H2-E^2 sigma/E\")\n",
    "ener=sol.Expectation(model.Ham())\n",
    "m=sol.bond_dim\n",
    "for mi in [m//2, m, 2*m, 3*m, 4*m]:\n",
    "    print(sol.H2(mi)/ener**2-1, sol.sigma(mi)/sol.energy  )"
   ]
  },
  {
   "cell_type": "code",
   "execution_count": 110,
   "id": "a28444e9-e770-4c57-b9c3-9dce9d2f97a4",
   "metadata": {},
   "outputs": [
    {
     "data": {
      "text/plain": [
       "[<matplotlib.lines.Line2D at 0x7fdd10296c20>]"
      ]
     },
     "execution_count": 110,
     "metadata": {},
     "output_type": "execute_result"
    },
    {
     "data": {
      "image/png": "[encoded data removed]",
      "text/plain": [
       "<Figure size 640x480 with 1 Axes>"
      ]
     },
     "metadata": {},
     "output_type": "display_data"
    }
   ],
   "source": [
    "plt.ylabel('$ \\\\langle c_i^\\dagger c_i \\\\rangle$')\n",
    "plt.yscale(\"log\")\n",
    "plt.plot([min(x,1-x) for x in cc.diagonal()], 'o-')"
   ]
  },
  {
   "cell_type": "code",
   "execution_count": 14,
   "id": "9fa72c5a-d243-4be3-97d7-567860af9658",
   "metadata": {},
   "outputs": [
    {
     "name": "stdout",
     "output_type": "stream",
     "text": [
      "gs:  [2, 4, 8, 16, 32, 32, 32, 32, 32, 32, 32, 32, 32, 32, 32, 32, 32, 32, 32, 32, 32, 32, 32, 32, 32, 32, 32, 32, 32, 32, 32, 32, 32, 32, 32, 32, 32, 32, 32, 32, 32, 32, 32, 32, 32, 32, 32, 32, 32, 32, 32, 32, 32, 32, 32, 32, 32, 32, 32, 32, 32, 32, 32, 32, 32, 32, 32, 32, 32, 32, 32, 32, 32, 32, 32, 32, 32, 32, 32, 31, 31, 31, 30, 27, 26, 25, 24, 23, 22, 21, 20, 19, 17, 15, 13, 12, 7, 4, 2, 1]\n"
     ]
    }
   ],
   "source": [
    "print(\"gs: \",[M.shape[-1] for M in sol.gs.cores])"
   ]
  },
  {
   "cell_type": "code",
   "execution_count": 15,
   "id": "447d133f-26e8-49dd-a90f-77b2235b249d",
   "metadata": {},
   "outputs": [],
   "source": [
    "np.savetxt(f\"cc_irlm_L{L}.txt\",cc)"
   ]
  },
  {
   "cell_type": "code",
   "execution_count": null,
   "id": "66c07ce5-0e3b-469f-8299-6e9dd13b08ce",
   "metadata": {},
   "outputs": [],
   "source": []
  }
 ],
 "metadata": {
  "kernelspec": {
   "display_name": "Python 3",
   "language": "python",
   "name": "python3"
  },
  "language_info": {
   "codemirror_mode": {
    "name": "ipython",
    "version": 3
   },
   "file_extension": ".py",
   "mimetype": "text/x-python",
   "name": "python",
   "nbconvert_exporter": "python",
   "pygments_lexer": "ipython3",
   "version": "3.8.5"
  }
 },
 "nbformat": 4,
 "nbformat_minor": 5
}
